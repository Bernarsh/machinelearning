{
  "nbformat": 4,
  "nbformat_minor": 0,
  "metadata": {
    "colab": {
      "name": "PytORCH-Class1.ipynb",
      "provenance": [],
      "include_colab_link": true
    },
    "kernelspec": {
      "name": "python3",
      "display_name": "Python 3"
    }
  },
  "cells": [
    {
      "cell_type": "markdown",
      "metadata": {
        "id": "view-in-github",
        "colab_type": "text"
      },
      "source": [
        "<a href=\"https://colab.research.google.com/github/ricardoricrob76/machinelearning/blob/main/DEEP-PytORCH_Class1.ipynb\" target=\"_parent\"><img src=\"https://colab.research.google.com/assets/colab-badge.svg\" alt=\"Open In Colab\"/></a>"
      ]
    },
    {
      "cell_type": "code",
      "metadata": {
        "id": "lq1u8sVw0BG8"
      },
      "source": [
        "from __future__ import print_function\n",
        "import torch"
      ],
      "execution_count": null,
      "outputs": []
    },
    {
      "cell_type": "markdown",
      "metadata": {
        "id": "6JHwB7RM0Nn_"
      },
      "source": [
        "## Create a empy tensor"
      ]
    },
    {
      "cell_type": "code",
      "metadata": {
        "id": "zkbXBqc60FIL",
        "colab": {
          "base_uri": "https://localhost:8080/",
          "height": 105
        },
        "outputId": "bfd83e1c-a7cd-4ff7-a166-e63112731e67"
      },
      "source": [
        "x = torch.empty(5, 3)\n",
        "print(x)"
      ],
      "execution_count": null,
      "outputs": [
        {
          "output_type": "stream",
          "text": [
            "tensor([[1.2670e-35, 0.0000e+00, 3.3631e-44],\n",
            "        [0.0000e+00,        nan, 6.4460e-44],\n",
            "        [1.1578e+27, 1.1362e+30, 7.1547e+22],\n",
            "        [4.5828e+30, 1.2121e+04, 7.1846e+22],\n",
            "        [9.2198e-39, 7.0374e+22, 4.7343e-36]])\n"
          ],
          "name": "stdout"
        }
      ]
    },
    {
      "cell_type": "markdown",
      "metadata": {
        "id": "tOxi6Suc5qC3"
      },
      "source": [
        "**Construct a randomly initialized matrix:**"
      ]
    },
    {
      "cell_type": "code",
      "metadata": {
        "id": "alAtsuoj0MFu",
        "colab": {
          "base_uri": "https://localhost:8080/",
          "height": 105
        },
        "outputId": "3a521d79-7282-435b-b655-1df42e0ea458"
      },
      "source": [
        "x = torch.rand(5, 3)\n",
        "print(x)"
      ],
      "execution_count": null,
      "outputs": [
        {
          "output_type": "stream",
          "text": [
            "tensor([[0.3688, 0.4395, 0.2899],\n",
            "        [0.9599, 0.6814, 0.7465],\n",
            "        [0.0984, 0.4816, 0.9918],\n",
            "        [0.7163, 0.4031, 0.1137],\n",
            "        [0.6782, 0.2800, 0.2421]])\n"
          ],
          "name": "stdout"
        }
      ]
    },
    {
      "cell_type": "markdown",
      "metadata": {
        "id": "thcxJWWE50Cr"
      },
      "source": [
        "**Construct a matrix filled zeros and of dtype long:**"
      ]
    },
    {
      "cell_type": "code",
      "metadata": {
        "id": "cCWNalMh5oUc",
        "colab": {
          "base_uri": "https://localhost:8080/",
          "height": 105
        },
        "outputId": "63832e69-0911-416a-ae44-a953ad4127f7"
      },
      "source": [
        "x = torch.zeros(5, 3, dtype=torch.long)\n",
        "print(x)"
      ],
      "execution_count": null,
      "outputs": [
        {
          "output_type": "stream",
          "text": [
            "tensor([[0, 0, 0],\n",
            "        [0, 0, 0],\n",
            "        [0, 0, 0],\n",
            "        [0, 0, 0],\n",
            "        [0, 0, 0]])\n"
          ],
          "name": "stdout"
        }
      ]
    },
    {
      "cell_type": "markdown",
      "metadata": {
        "id": "J2Ad_lhE6gGb"
      },
      "source": [
        "**Construct a tensor for data**"
      ]
    },
    {
      "cell_type": "code",
      "metadata": {
        "id": "7g7xQBYW5x1J",
        "colab": {
          "base_uri": "https://localhost:8080/",
          "height": 34
        },
        "outputId": "b4d449c0-b35f-47d8-a7fd-b1101f92e74d"
      },
      "source": [
        "x = torch.tensor([5.5, 3])\n",
        "print(x)"
      ],
      "execution_count": null,
      "outputs": [
        {
          "output_type": "stream",
          "text": [
            "tensor([5.5000, 3.0000])\n"
          ],
          "name": "stdout"
        }
      ]
    },
    {
      "cell_type": "markdown",
      "metadata": {
        "id": "Jr1uv2Tg6w13"
      },
      "source": [
        ""
      ]
    },
    {
      "cell_type": "code",
      "metadata": {
        "id": "F8m7_xM86fMC",
        "colab": {
          "base_uri": "https://localhost:8080/",
          "height": 193
        },
        "outputId": "dd71235a-668b-486d-cab3-0ac45bb658ad"
      },
      "source": [
        "x = x.new_ones(5, 3, dtype=torch.double)      # new_* methods take in sizes\n",
        "print(x)\n",
        "\n",
        "x = torch.randn_like(x, dtype=torch.float)    # override dtype!\n",
        "print(x)  "
      ],
      "execution_count": null,
      "outputs": [
        {
          "output_type": "stream",
          "text": [
            "tensor([[1., 1., 1.],\n",
            "        [1., 1., 1.],\n",
            "        [1., 1., 1.],\n",
            "        [1., 1., 1.],\n",
            "        [1., 1., 1.]], dtype=torch.float64)\n",
            "tensor([[-1.2248,  0.4996,  0.8468],\n",
            "        [ 0.0096,  2.0772, -1.4811],\n",
            "        [-1.0125, -0.1888, -1.0171],\n",
            "        [ 0.3507,  2.0612,  1.9400],\n",
            "        [ 1.1977, -0.1413,  0.8477]])\n"
          ],
          "name": "stdout"
        }
      ]
    },
    {
      "cell_type": "markdown",
      "metadata": {
        "id": "O1-c2HkOfa_G"
      },
      "source": [
        "**Get the size**"
      ]
    },
    {
      "cell_type": "code",
      "metadata": {
        "id": "-AY9v7q06vwW",
        "colab": {
          "base_uri": "https://localhost:8080/",
          "height": 34
        },
        "outputId": "fb985e2c-3ffb-450a-a5c6-7836810992fd"
      },
      "source": [
        "print(x.size())"
      ],
      "execution_count": null,
      "outputs": [
        {
          "output_type": "stream",
          "text": [
            "torch.Size([5, 3])\n"
          ],
          "name": "stdout"
        }
      ]
    },
    {
      "cell_type": "markdown",
      "metadata": {
        "id": "Y8TXh_VVfl9P"
      },
      "source": [
        "**Add to torch tensors**"
      ]
    },
    {
      "cell_type": "code",
      "metadata": {
        "id": "LbmT0ht2fY6T",
        "colab": {
          "base_uri": "https://localhost:8080/",
          "height": 105
        },
        "outputId": "e821c6f8-d627-4ea7-de88-c2c116fa3547"
      },
      "source": [
        "y = torch.rand(5, 3)\n",
        "print(x + y)"
      ],
      "execution_count": null,
      "outputs": [
        {
          "output_type": "stream",
          "text": [
            "tensor([[-0.9492,  1.1706,  1.2335],\n",
            "        [ 0.0275,  2.8898, -1.4213],\n",
            "        [-0.6250,  0.4644, -0.0658],\n",
            "        [ 0.6659,  2.7903,  2.6239],\n",
            "        [ 1.3990,  0.2948,  1.7792]])\n"
          ],
          "name": "stdout"
        }
      ]
    },
    {
      "cell_type": "code",
      "metadata": {
        "id": "9njQHoyrfksN",
        "colab": {
          "base_uri": "https://localhost:8080/",
          "height": 105
        },
        "outputId": "2d9a69e8-b0f7-4157-83cd-ac2e5ac12141"
      },
      "source": [
        "result = torch.empty(5, 3)\n",
        "torch.add(x, y, out=result)\n",
        "print(result)"
      ],
      "execution_count": null,
      "outputs": [
        {
          "output_type": "stream",
          "text": [
            "tensor([[-0.9492,  1.1706,  1.2335],\n",
            "        [ 0.0275,  2.8898, -1.4213],\n",
            "        [-0.6250,  0.4644, -0.0658],\n",
            "        [ 0.6659,  2.7903,  2.6239],\n",
            "        [ 1.3990,  0.2948,  1.7792]])\n"
          ],
          "name": "stdout"
        }
      ]
    },
    {
      "cell_type": "code",
      "metadata": {
        "id": "84mU8rCSfwzJ"
      },
      "source": [
        ""
      ],
      "execution_count": null,
      "outputs": []
    }
  ]
}