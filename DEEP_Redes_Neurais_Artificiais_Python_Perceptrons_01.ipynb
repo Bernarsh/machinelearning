{
  "nbformat": 4,
  "nbformat_minor": 0,
  "metadata": {
    "colab": {
      "name": "DEEP-Redes Neurais Artificiais Python - Perceptrons 01.ipynb",
      "provenance": [],
      "include_colab_link": true
    },
    "language_info": {
      "codemirror_mode": {
        "name": "ipython",
        "version": 3
      },
      "file_extension": ".py",
      "mimetype": "text/x-python",
      "name": "python",
      "nbconvert_exporter": "python",
      "pygments_lexer": "ipython3",
      "version": "3.6.5"
    },
    "kernelspec": {
      "display_name": "Python 3",
      "language": "python",
      "name": "python3"
    }
  },
  "cells": [
    {
      "cell_type": "markdown",
      "metadata": {
        "id": "view-in-github",
        "colab_type": "text"
      },
      "source": [
        "<a href=\"https://colab.research.google.com/github/ricardoricrob76/machinelearning/blob/main/DEEP_Redes_Neurais_Artificiais_Python_Perceptrons_01.ipynb\" target=\"_parent\"><img src=\"https://colab.research.google.com/assets/colab-badge.svg\" alt=\"Open In Colab\"/></a>"
      ]
    },
    {
      "cell_type": "code",
      "metadata": {
        "id": "168kSrvLW1aI",
        "colab": {
          "base_uri": "https://localhost:8080/"
        },
        "outputId": "2acfc0ca-536b-4111-8721-332e5997f9d1"
      },
      "source": [
        "# -*- coding: utf-8 -*-\n",
        "\"\"\"\n",
        "Created on Mon Sep 18 14:16:04 2017\n",
        "\n",
        "@author: Ricardo Roberto de Lima..\n",
        "Primeira Rede Neural com Python - Utilizando Perceptron1.\n",
        "Implementação de Perceptron de Camada 1.\n",
        "\n",
        "\"\"\"\n",
        "entradas = [-1, 7, 5]\n",
        "pesos = [0.8, 0.1, 0]\n",
        "\n",
        "def soma(e, p):\n",
        "    s = 0\n",
        "    for i in range(3):\n",
        "        print(entradas[i])\n",
        "        print(pesos[i])\n",
        "        s += e[i] * p[i]\n",
        "    return s\n",
        "        \n",
        "s = soma(entradas, pesos)\n",
        "\n",
        "def stepFunction(soma):\n",
        "    if (soma >= 1):\n",
        "        return 1\n",
        "    return 0\n",
        "\n",
        "r = stepFunction(s)\n",
        "\n",
        "#print('Soma dos Números:' + soma)\n",
        "print(r)\n",
        "print()\n",
        "#print('Soma dos Números:' + soma)"
      ],
      "execution_count": null,
      "outputs": [
        {
          "output_type": "stream",
          "name": "stdout",
          "text": [
            "-1\n",
            "0.8\n",
            "7\n",
            "0.1\n",
            "5\n",
            "0\n",
            "0\n",
            "\n"
          ]
        }
      ]
    },
    {
      "cell_type": "code",
      "metadata": {
        "id": "Z0c_8p7lW1aO"
      },
      "source": [
        ""
      ],
      "execution_count": null,
      "outputs": []
    },
    {
      "cell_type": "code",
      "metadata": {
        "id": "5Ryo0A1rW1aQ"
      },
      "source": [
        ""
      ],
      "execution_count": null,
      "outputs": []
    }
  ]
}