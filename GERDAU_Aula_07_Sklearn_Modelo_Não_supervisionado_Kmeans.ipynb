{
  "nbformat": 4,
  "nbformat_minor": 0,
  "metadata": {
    "colab": {
      "name": "GERDAU - Aula 07 - Sklearn - Modelo Não-supervisionado - Kmeans.ipynb",
      "provenance": [],
      "authorship_tag": "ABX9TyO/lFlWY6JVNs7JbF+4LzE4",
      "include_colab_link": true
    },
    "kernelspec": {
      "name": "python3",
      "display_name": "Python 3"
    },
    "language_info": {
      "name": "python"
    }
  },
  "cells": [
    {
      "cell_type": "markdown",
      "metadata": {
        "id": "view-in-github",
        "colab_type": "text"
      },
      "source": [
        "<a href=\"https://colab.research.google.com/github/ricardoricrob76/machinelearning/blob/main/GERDAU_Aula_07_Sklearn_Modelo_N%C3%A3o_supervisionado_Kmeans.ipynb\" target=\"_parent\"><img src=\"https://colab.research.google.com/assets/colab-badge.svg\" alt=\"Open In Colab\"/></a>"
      ]
    },
    {
      "cell_type": "code",
      "metadata": {
        "id": "R5sfVTIrwlIv"
      },
      "source": [
        "# GERDAU - Treinamento InCompany\n",
        "# Autor:  Profº - Ricardo Roberto de Lima - FABWORK\n",
        "# Ciência de Dados com Python + Pandas, Numpy, SkLearning. Diabetes\n",
        "# Machine Learning - Aula 07 - Modelos Não-Supervisionados \n",
        "# Algoritmo - KMeans"
      ],
      "execution_count": 7,
      "outputs": []
    },
    {
      "cell_type": "code",
      "metadata": {
        "id": "MmhNU6QxxiGk"
      },
      "source": [
        "# Import das Bibliotecas\n",
        "from sklearn.cluster import KMeans\n",
        "from sklearn import metrics\n",
        "import numpy as np\n",
        "import pandas as pd\n",
        "import matplotlib.pyplot as plt\n"
      ],
      "execution_count": 8,
      "outputs": []
    },
    {
      "cell_type": "code",
      "metadata": {
        "id": "dZynuuh6xtXH"
      },
      "source": [
        "# Manipulação dos Dados\n",
        "x1 = np.array([3, 1, 1, 2, 1, 6, 6, 6, 5, 6, 7, 8, 9, 8, 9, 9, 8])\n",
        "x2 = np.array([5, 4, 6, 6, 5, 8, 6, 7, 6, 7, 1, 2, 1, 2, 3, 2, 3])\n"
      ],
      "execution_count": 9,
      "outputs": []
    },
    {
      "cell_type": "code",
      "metadata": {
        "colab": {
          "base_uri": "https://localhost:8080/",
          "height": 281
        },
        "id": "baUGZZSJx3we",
        "outputId": "d7cfecb3-728b-4a9e-f55c-5fd8a79b4f79"
      },
      "source": [
        "plt.plot()\n",
        "plt.xlim([0, 10])\n",
        "plt.ylim([0, 10])\n",
        "plt.title('Dataset')\n",
        "plt.scatter(x1, x2)\n",
        "plt.show()"
      ],
      "execution_count": 10,
      "outputs": [
        {
          "output_type": "display_data",
          "data": {
            "image/png": "[encoded data removed]",
            "text/plain": [
              "<Figure size 432x288 with 1 Axes>"
            ]
          },
          "metadata": {
            "needs_background": "light"
          }
        }
      ]
    },
    {
      "cell_type": "code",
      "metadata": {
        "colab": {
          "base_uri": "https://localhost:8080/",
          "height": 269
        },
        "id": "jvqIy7nsx9Ln",
        "outputId": "bd54b9a5-456d-48bf-e8bc-39b67417d0ed"
      },
      "source": [
        "# create new plot and data\n",
        "plt.plot()\n",
        "X = np.array(list(zip(x1, x2))).reshape(len(x1), 2)\n",
        "colors = ['b', 'g', 'r']\n",
        "markers = ['o', 'v', 's']\n",
        "\n",
        "# KMeans algorithm \n",
        "K = 3\n",
        "kmeans_model = KMeans(n_clusters=K).fit(X)\n",
        "\n",
        "plt.plot()\n",
        "for i, l in enumerate(kmeans_model.labels_):\n",
        "    plt.plot(x1[i], x2[i], color=colors[l], marker=markers[l],ls='None')\n",
        "    plt.xlim([0, 10])\n",
        "    plt.ylim([0, 10])\n",
        "\n",
        "plt.show()"
      ],
      "execution_count": 11,
      "outputs": [
        {
          "output_type": "display_data",
          "data": {
            "image/png": "[encoded data removed]",
            "text/plain": [
              "<Figure size 432x288 with 1 Axes>"
            ]
          },
          "metadata": {
            "needs_background": "light"
          }
        }
      ]
    },
    {
      "cell_type": "code",
      "metadata": {
        "id": "4t_u9XkzyGuO"
      },
      "source": [
        "# Adaptar para o Ambiente da GERDAU.\n",
        "#import awswrangler as wr\n",
        "\n",
        "#import boto3\n",
        "#boto3.setup_default_session(region_name=\"us-east-2\")\n",
        "\n",
        "data = pd.read_csv(\"iris.csv\")\n",
        "\n",
        "# Criar um Objeto do tipo DataFrame no Ambiente Big Data - Gerdau\n",
        "# data=wr.s3.read_csv('s3://gerdau-analytics/gdata/datascience/iris.csv')"
      ],
      "execution_count": 12,
      "outputs": []
    },
    {
      "cell_type": "code",
      "metadata": {
        "colab": {
          "base_uri": "https://localhost:8080/",
          "height": 206
        },
        "id": "kxBY7zL0yhBP",
        "outputId": "1bf851b5-1884-4ba0-d417-edffd0e0487b"
      },
      "source": [
        "data.head()"
      ],
      "execution_count": 13,
      "outputs": [
        {
          "output_type": "execute_result",
          "data": {
            "text/html": [
              "<div>\n",
              "<style scoped>\n",
              "    .dataframe tbody tr th:only-of-type {\n",
              "        vertical-align: middle;\n",
              "    }\n",
              "\n",
              "    .dataframe tbody tr th {\n",
              "        vertical-align: top;\n",
              "    }\n",
              "\n",
              "    .dataframe thead th {\n",
              "        text-align: right;\n",
              "    }\n",
              "</style>\n",
              "<table border=\"1\" class=\"dataframe\">\n",
              "  <thead>\n",
              "    <tr style=\"text-align: right;\">\n",
              "      <th></th>\n",
              "      <th>sepal_length</th>\n",
              "      <th>sepal_width</th>\n",
              "      <th>petal_length</th>\n",
              "      <th>petal_width</th>\n",
              "      <th>species</th>\n",
              "    </tr>\n",
              "  </thead>\n",
              "  <tbody>\n",
              "    <tr>\n",
              "      <th>0</th>\n",
              "      <td>5.1</td>\n",
              "      <td>3.5</td>\n",
              "      <td>1.4</td>\n",
              "      <td>0.2</td>\n",
              "      <td>setosa</td>\n",
              "    </tr>\n",
              "    <tr>\n",
              "      <th>1</th>\n",
              "      <td>4.9</td>\n",
              "      <td>3.0</td>\n",
              "      <td>1.4</td>\n",
              "      <td>0.2</td>\n",
              "      <td>setosa</td>\n",
              "    </tr>\n",
              "    <tr>\n",
              "      <th>2</th>\n",
              "      <td>4.7</td>\n",
              "      <td>3.2</td>\n",
              "      <td>1.3</td>\n",
              "      <td>0.2</td>\n",
              "      <td>setosa</td>\n",
              "    </tr>\n",
              "    <tr>\n",
              "      <th>3</th>\n",
              "      <td>4.6</td>\n",
              "      <td>3.1</td>\n",
              "      <td>1.5</td>\n",
              "      <td>0.2</td>\n",
              "      <td>setosa</td>\n",
              "    </tr>\n",
              "    <tr>\n",
              "      <th>4</th>\n",
              "      <td>5.0</td>\n",
              "      <td>3.6</td>\n",
              "      <td>1.4</td>\n",
              "      <td>0.2</td>\n",
              "      <td>setosa</td>\n",
              "    </tr>\n",
              "  </tbody>\n",
              "</table>\n",
              "</div>"
            ],
            "text/plain": [
              "   sepal_length  sepal_width  petal_length  petal_width species\n",
              "0           5.1          3.5           1.4          0.2  setosa\n",
              "1           4.9          3.0           1.4          0.2  setosa\n",
              "2           4.7          3.2           1.3          0.2  setosa\n",
              "3           4.6          3.1           1.5          0.2  setosa\n",
              "4           5.0          3.6           1.4          0.2  setosa"
            ]
          },
          "metadata": {},
          "execution_count": 13
        }
      ]
    },
    {
      "cell_type": "code",
      "metadata": {
        "colab": {
          "base_uri": "https://localhost:8080/"
        },
        "id": "y2cB4rjDzDtv",
        "outputId": "37fbac46-15fe-4895-e47f-cf197e72a9f9"
      },
      "source": [
        "X = data.iloc[:, 0:4].values\n",
        "X"
      ],
      "execution_count": 14,
      "outputs": [
        {
          "output_type": "execute_result",
          "data": {
            "text/plain": [
              "array([[5.1, 3.5, 1.4, 0.2],\n",
              "       [4.9, 3. , 1.4, 0.2],\n",
              "       [4.7, 3.2, 1.3, 0.2],\n",
              "       [4.6, 3.1, 1.5, 0.2],\n",
              "       [5. , 3.6, 1.4, 0.2],\n",
              "       [5.4, 3.9, 1.7, 0.4],\n",
              "       [4.6, 3.4, 1.4, 0.3],\n",
              "       [5. , 3.4, 1.5, 0.2],\n",
              "       [4.4, 2.9, 1.4, 0.2],\n",
              "       [4.9, 3.1, 1.5, 0.1],\n",
              "       [5.4, 3.7, 1.5, 0.2],\n",
              "       [4.8, 3.4, 1.6, 0.2],\n",
              "       [4.8, 3. , 1.4, 0.1],\n",
              "       [4.3, 3. , 1.1, 0.1],\n",
              "       [5.8, 4. , 1.2, 0.2],\n",
              "       [5.7, 4.4, 1.5, 0.4],\n",
              "       [5.4, 3.9, 1.3, 0.4],\n",
              "       [5.1, 3.5, 1.4, 0.3],\n",
              "       [5.7, 3.8, 1.7, 0.3],\n",
              "       [5.1, 3.8, 1.5, 0.3],\n",
              "       [5.4, 3.4, 1.7, 0.2],\n",
              "       [5.1, 3.7, 1.5, 0.4],\n",
              "       [4.6, 3.6, 1. , 0.2],\n",
              "       [5.1, 3.3, 1.7, 0.5],\n",
              "       [4.8, 3.4, 1.9, 0.2],\n",
              "       [5. , 3. , 1.6, 0.2],\n",
              "       [5. , 3.4, 1.6, 0.4],\n",
              "       [5.2, 3.5, 1.5, 0.2],\n",
              "       [5.2, 3.4, 1.4, 0.2],\n",
              "       [4.7, 3.2, 1.6, 0.2],\n",
              "       [4.8, 3.1, 1.6, 0.2],\n",
              "       [5.4, 3.4, 1.5, 0.4],\n",
              "       [5.2, 4.1, 1.5, 0.1],\n",
              "       [5.5, 4.2, 1.4, 0.2],\n",
              "       [4.9, 3.1, 1.5, 0.1],\n",
              "       [5. , 3.2, 1.2, 0.2],\n",
              "       [5.5, 3.5, 1.3, 0.2],\n",
              "       [4.9, 3.1, 1.5, 0.1],\n",
              "       [4.4, 3. , 1.3, 0.2],\n",
              "       [5.1, 3.4, 1.5, 0.2],\n",
              "       [5. , 3.5, 1.3, 0.3],\n",
              "       [4.5, 2.3, 1.3, 0.3],\n",
              "       [4.4, 3.2, 1.3, 0.2],\n",
              "       [5. , 3.5, 1.6, 0.6],\n",
              "       [5.1, 3.8, 1.9, 0.4],\n",
              "       [4.8, 3. , 1.4, 0.3],\n",
              "       [5.1, 3.8, 1.6, 0.2],\n",
              "       [4.6, 3.2, 1.4, 0.2],\n",
              "       [5.3, 3.7, 1.5, 0.2],\n",
              "       [5. , 3.3, 1.4, 0.2],\n",
              "       [7. , 3.2, 4.7, 1.4],\n",
              "       [6.4, 3.2, 4.5, 1.5],\n",
              "       [6.9, 3.1, 4.9, 1.5],\n",
              "       [5.5, 2.3, 4. , 1.3],\n",
              "       [6.5, 2.8, 4.6, 1.5],\n",
              "       [5.7, 2.8, 4.5, 1.3],\n",
              "       [6.3, 3.3, 4.7, 1.6],\n",
              "       [4.9, 2.4, 3.3, 1. ],\n",
              "       [6.6, 2.9, 4.6, 1.3],\n",
              "       [5.2, 2.7, 3.9, 1.4],\n",
              "       [5. , 2. , 3.5, 1. ],\n",
              "       [5.9, 3. , 4.2, 1.5],\n",
              "       [6. , 2.2, 4. , 1. ],\n",
              "       [6.1, 2.9, 4.7, 1.4],\n",
              "       [5.6, 2.9, 3.6, 1.3],\n",
              "       [6.7, 3.1, 4.4, 1.4],\n",
              "       [5.6, 3. , 4.5, 1.5],\n",
              "       [5.8, 2.7, 4.1, 1. ],\n",
              "       [6.2, 2.2, 4.5, 1.5],\n",
              "       [5.6, 2.5, 3.9, 1.1],\n",
              "       [5.9, 3.2, 4.8, 1.8],\n",
              "       [6.1, 2.8, 4. , 1.3],\n",
              "       [6.3, 2.5, 4.9, 1.5],\n",
              "       [6.1, 2.8, 4.7, 1.2],\n",
              "       [6.4, 2.9, 4.3, 1.3],\n",
              "       [6.6, 3. , 4.4, 1.4],\n",
              "       [6.8, 2.8, 4.8, 1.4],\n",
              "       [6.7, 3. , 5. , 1.7],\n",
              "       [6. , 2.9, 4.5, 1.5],\n",
              "       [5.7, 2.6, 3.5, 1. ],\n",
              "       [5.5, 2.4, 3.8, 1.1],\n",
              "       [5.5, 2.4, 3.7, 1. ],\n",
              "       [5.8, 2.7, 3.9, 1.2],\n",
              "       [6. , 2.7, 5.1, 1.6],\n",
              "       [5.4, 3. , 4.5, 1.5],\n",
              "       [6. , 3.4, 4.5, 1.6],\n",
              "       [6.7, 3.1, 4.7, 1.5],\n",
              "       [6.3, 2.3, 4.4, 1.3],\n",
              "       [5.6, 3. , 4.1, 1.3],\n",
              "       [5.5, 2.5, 4. , 1.3],\n",
              "       [5.5, 2.6, 4.4, 1.2],\n",
              "       [6.1, 3. , 4.6, 1.4],\n",
              "       [5.8, 2.6, 4. , 1.2],\n",
              "       [5. , 2.3, 3.3, 1. ],\n",
              "       [5.6, 2.7, 4.2, 1.3],\n",
              "       [5.7, 3. , 4.2, 1.2],\n",
              "       [5.7, 2.9, 4.2, 1.3],\n",
              "       [6.2, 2.9, 4.3, 1.3],\n",
              "       [5.1, 2.5, 3. , 1.1],\n",
              "       [5.7, 2.8, 4.1, 1.3],\n",
              "       [6.3, 3.3, 6. , 2.5],\n",
              "       [5.8, 2.7, 5.1, 1.9],\n",
              "       [7.1, 3. , 5.9, 2.1],\n",
              "       [6.3, 2.9, 5.6, 1.8],\n",
              "       [6.5, 3. , 5.8, 2.2],\n",
              "       [7.6, 3. , 6.6, 2.1],\n",
              "       [4.9, 2.5, 4.5, 1.7],\n",
              "       [7.3, 2.9, 6.3, 1.8],\n",
              "       [6.7, 2.5, 5.8, 1.8],\n",
              "       [7.2, 3.6, 6.1, 2.5],\n",
              "       [6.5, 3.2, 5.1, 2. ],\n",
              "       [6.4, 2.7, 5.3, 1.9],\n",
              "       [6.8, 3. , 5.5, 2.1],\n",
              "       [5.7, 2.5, 5. , 2. ],\n",
              "       [5.8, 2.8, 5.1, 2.4],\n",
              "       [6.4, 3.2, 5.3, 2.3],\n",
              "       [6.5, 3. , 5.5, 1.8],\n",
              "       [7.7, 3.8, 6.7, 2.2],\n",
              "       [7.7, 2.6, 6.9, 2.3],\n",
              "       [6. , 2.2, 5. , 1.5],\n",
              "       [6.9, 3.2, 5.7, 2.3],\n",
              "       [5.6, 2.8, 4.9, 2. ],\n",
              "       [7.7, 2.8, 6.7, 2. ],\n",
              "       [6.3, 2.7, 4.9, 1.8],\n",
              "       [6.7, 3.3, 5.7, 2.1],\n",
              "       [7.2, 3.2, 6. , 1.8],\n",
              "       [6.2, 2.8, 4.8, 1.8],\n",
              "       [6.1, 3. , 4.9, 1.8],\n",
              "       [6.4, 2.8, 5.6, 2.1],\n",
              "       [7.2, 3. , 5.8, 1.6],\n",
              "       [7.4, 2.8, 6.1, 1.9],\n",
              "       [7.9, 3.8, 6.4, 2. ],\n",
              "       [6.4, 2.8, 5.6, 2.2],\n",
              "       [6.3, 2.8, 5.1, 1.5],\n",
              "       [6.1, 2.6, 5.6, 1.4],\n",
              "       [7.7, 3. , 6.1, 2.3],\n",
              "       [6.3, 3.4, 5.6, 2.4],\n",
              "       [6.4, 3.1, 5.5, 1.8],\n",
              "       [6. , 3. , 4.8, 1.8],\n",
              "       [6.9, 3.1, 5.4, 2.1],\n",
              "       [6.7, 3.1, 5.6, 2.4],\n",
              "       [6.9, 3.1, 5.1, 2.3],\n",
              "       [5.8, 2.7, 5.1, 1.9],\n",
              "       [6.8, 3.2, 5.9, 2.3],\n",
              "       [6.7, 3.3, 5.7, 2.5],\n",
              "       [6.7, 3. , 5.2, 2.3],\n",
              "       [6.3, 2.5, 5. , 1.9],\n",
              "       [6.5, 3. , 5.2, 2. ],\n",
              "       [6.2, 3.4, 5.4, 2.3],\n",
              "       [5.9, 3. , 5.1, 1.8]])"
            ]
          },
          "metadata": {},
          "execution_count": 14
        }
      ]
    },
    {
      "cell_type": "code",
      "metadata": {
        "id": "O1IwuZwRzH1G"
      },
      "source": [
        "# Importando o Algoritmo KMeans\n",
        "from sklearn.cluster import KMeans"
      ],
      "execution_count": 15,
      "outputs": []
    },
    {
      "cell_type": "code",
      "metadata": {
        "id": "5Aab3CuUzObH"
      },
      "source": [
        "kmeans = KMeans(n_clusters = 3, init = 'random')"
      ],
      "execution_count": 16,
      "outputs": []
    },
    {
      "cell_type": "code",
      "metadata": {
        "colab": {
          "base_uri": "https://localhost:8080/"
        },
        "id": "1S_bSwezzQhX",
        "outputId": "f0d58fd7-011e-42e2-bf97-1797a920ca05"
      },
      "source": [
        "kmeans.fit(X)"
      ],
      "execution_count": 17,
      "outputs": [
        {
          "output_type": "execute_result",
          "data": {
            "text/plain": [
              "KMeans(init='random', n_clusters=3)"
            ]
          },
          "metadata": {},
          "execution_count": 17
        }
      ]
    },
    {
      "cell_type": "code",
      "metadata": {
        "colab": {
          "base_uri": "https://localhost:8080/"
        },
        "id": "qupNm3jezSVP",
        "outputId": "85456ce5-ffee-4fc8-916d-bf7a6be6b9c0"
      },
      "source": [
        "kmeans.cluster_centers_"
      ],
      "execution_count": 18,
      "outputs": [
        {
          "output_type": "execute_result",
          "data": {
            "text/plain": [
              "array([[5.006     , 3.418     , 1.464     , 0.244     ],\n",
              "       [5.9016129 , 2.7483871 , 4.39354839, 1.43387097],\n",
              "       [6.85      , 3.07368421, 5.74210526, 2.07105263]])"
            ]
          },
          "metadata": {},
          "execution_count": 18
        }
      ]
    },
    {
      "cell_type": "code",
      "metadata": {
        "colab": {
          "base_uri": "https://localhost:8080/"
        },
        "id": "swQ6wfQwzVI_",
        "outputId": "ef0937ff-45ef-42a7-b072-f6541a60d218"
      },
      "source": [
        "distance = kmeans.fit_transform(X)\n",
        "distance"
      ],
      "execution_count": 19,
      "outputs": [
        {
          "output_type": "execute_result",
          "data": {
            "text/plain": [
              "array([[0.14694217, 5.0595416 , 3.41925061],\n",
              "       [0.43816892, 5.11494335, 3.39857426],\n",
              "       [0.41230086, 5.27935534, 3.56935666],\n",
              "       [0.51883716, 5.15358977, 3.42240962],\n",
              "       [0.19796969, 5.10433388, 3.46726403],\n",
              "       [0.68380699, 4.68148797, 3.14673162],\n",
              "       [0.41520116, 5.21147652, 3.51650264],\n",
              "       [0.0599333 , 5.00252706, 3.33654987],\n",
              "       [0.80099438, 5.32798107, 3.57233779],\n",
              "       [0.36659514, 5.06790865, 3.3583767 ],\n",
              "       [0.48784424, 4.89806763, 3.32449131],\n",
              "       [0.25138019, 4.9966845 , 3.31126872],\n",
              "       [0.49192682, 5.19103612, 3.46661272],\n",
              "       [0.90906105, 5.65173594, 3.90578362],\n",
              "       [1.02019214, 5.10804455, 3.646649  ],\n",
              "       [1.21309192, 4.88564095, 3.49427881],\n",
              "       [0.66241377, 5.03090587, 3.495248  ],\n",
              "       [0.1509702 , 5.02342022, 3.38444981],\n",
              "       [0.82848778, 4.61792995, 3.11245944],\n",
              "       [0.39898872, 4.97213426, 3.37738931],\n",
              "       [0.46172719, 4.6955761 , 3.07471224],\n",
              "       [0.33762701, 4.9236821 , 3.31506588],\n",
              "       [0.64435394, 5.59713396, 3.93167253],\n",
              "       [0.37946278, 4.68193765, 3.01233762],\n",
              "       [0.4845534 , 4.75095704, 3.06241269],\n",
              "       [0.44180539, 4.90772894, 3.19414543],\n",
              "       [0.20782685, 4.84545508, 3.17967089],\n",
              "       [0.21815591, 4.93969029, 3.30941724],\n",
              "       [0.2097427 , 5.01833618, 3.37648183],\n",
              "       [0.40198507, 5.02954567, 3.31272968],\n",
              "       [0.40495926, 4.98608729, 3.26550651],\n",
              "       [0.42566654, 4.79550372, 3.18083736],\n",
              "       [0.72442529, 5.06520776, 3.53142353],\n",
              "       [0.9282198 , 5.04438334, 3.57102821],\n",
              "       [0.36659514, 5.06790865, 3.3583767 ],\n",
              "       [0.34524194, 5.25071556, 3.56904033],\n",
              "       [0.5287646 , 5.02368214, 3.43783276],\n",
              "       [0.36659514, 5.06790865, 3.3583767 ],\n",
              "       [0.75550778, 5.40750095, 3.66205264],\n",
              "       [0.11131936, 4.9664149 , 3.31092773],\n",
              "       [0.19181241, 5.14520862, 3.49764675],\n",
              "       [1.23935144, 5.38423754, 3.60850034],\n",
              "       [0.66602703, 5.40847417, 3.68120561],\n",
              "       [0.38986151, 4.78803478, 3.14278239],\n",
              "       [0.60761172, 4.59828494, 3.00585191],\n",
              "       [0.47370033, 5.11844067, 3.39468045],\n",
              "       [0.41855943, 4.92421655, 3.32788568],\n",
              "       [0.4673243 , 5.23766854, 3.51879523],\n",
              "       [0.41132955, 4.92859681, 3.34104251],\n",
              "       [0.14139307, 5.08216833, 3.40601705],\n",
              "       [3.97889331, 1.25489071, 1.22697525],\n",
              "       [3.57569462, 1.44477759, 0.684141  ],\n",
              "       [4.13182671, 1.01903626, 1.17527644],\n",
              "       [3.00672446, 2.45978458, 0.73153652],\n",
              "       [3.7451291 , 1.3520017 , 0.63853451],\n",
              "       [3.34604124, 1.88009327, 0.26937898],\n",
              "       [3.74149596, 1.28902785, 0.76452634],\n",
              "       [2.233829  , 3.37155487, 1.58388575],\n",
              "       [3.70928457, 1.41123804, 0.75582717],\n",
              "       [2.79706847, 2.58955659, 0.85984838],\n",
              "       [2.5937602 , 3.27864111, 1.53611907],\n",
              "       [3.16815277, 1.90055758, 0.32426175],\n",
              "       [3.07805003, 2.38073698, 0.80841374],\n",
              "       [3.64323922, 1.45909603, 0.39674141],\n",
              "       [2.50973943, 2.60303733, 0.87269542],\n",
              "       [3.59544045, 1.50822767, 0.87306498],\n",
              "       [3.36487622, 1.85387593, 0.41229163],\n",
              "       [2.9438057 , 2.25517257, 0.53579956],\n",
              "       [3.70189033, 1.74778451, 0.6367639 ],\n",
              "       [2.80399572, 2.49557781, 0.71254917],\n",
              "       [3.79431048, 1.37094403, 0.7093731 ],\n",
              "       [3.02079327, 2.06563694, 0.46349013],\n",
              "       [3.98757972, 1.29106776, 0.69373966],\n",
              "       [3.60060995, 1.57547425, 0.43661144],\n",
              "       [3.37188256, 1.70495043, 0.54593856],\n",
              "       [3.55977415, 1.52298639, 0.74313017],\n",
              "       [4.00819061, 1.18965415, 0.98798453],\n",
              "       [4.20328348, 0.84636259, 1.06739835],\n",
              "       [3.47148268, 1.61913335, 0.21993519],\n",
              "       [2.42231129, 2.77868071, 1.0243726 ],\n",
              "       [2.73312861, 2.6440625 , 0.86396528],\n",
              "       [2.61755458, 2.75566654, 0.97566381],\n",
              "       [2.82736485, 2.32254696, 0.55763082],\n",
              "       [4.06974102, 1.22324554, 0.73395781],\n",
              "       [3.33538484, 1.9942056 , 0.57500396],\n",
              "       [3.47050313, 1.61049622, 0.68790275],\n",
              "       [3.87556344, 1.19803047, 0.92700552],\n",
              "       [3.55803204, 1.81572464, 0.61459444],\n",
              "       [2.93107352, 2.20430516, 0.50830256],\n",
              "       [2.9382294 , 2.40438484, 0.6291191 ],\n",
              "       [3.23221163, 2.14635877, 0.48790256],\n",
              "       [3.54152397, 1.52402278, 0.38266958],\n",
              "       [2.94020271, 2.26286106, 0.49185351],\n",
              "       [2.27868208, 3.33648305, 1.5485635 ],\n",
              "       [3.07720523, 2.16211718, 0.3856087 ],\n",
              "       [3.00931753, 2.11299567, 0.44284695],\n",
              "       [3.05790647, 2.07973003, 0.3449879 ],\n",
              "       [3.29423618, 1.76829182, 0.37241653],\n",
              "       [1.98584793, 3.44291999, 1.66064034],\n",
              "       [2.98784069, 2.16527941, 0.38393196],\n",
              "       [5.23002792, 0.77731871, 2.0445799 ],\n",
              "       [4.13627755, 1.29757391, 0.85382472],\n",
              "       [5.2614059 , 0.30610139, 2.05245342],\n",
              "       [4.63361544, 0.65293923, 1.33089245],\n",
              "       [5.00335807, 0.38458885, 1.72813078],\n",
              "       [6.06026336, 1.14225684, 2.87401886],\n",
              "       [3.49158875, 2.4108337 , 1.07101875],\n",
              "       [5.59810611, 0.78573677, 2.39730707],\n",
              "       [4.99343489, 0.65454939, 1.67668563],\n",
              "       [5.60613878, 0.8435596 , 2.54158648],\n",
              "       [4.31086905, 0.74552218, 1.17541367],\n",
              "       [4.46273369, 0.75289837, 1.13563278],\n",
              "       [4.80907392, 0.25958095, 1.59322675],\n",
              "       [4.11232197, 1.48572618, 0.88917352],\n",
              "       [4.34524936, 1.30303821, 1.20227628],\n",
              "       [4.57523682, 0.68288333, 1.42273608],\n",
              "       [4.5953446 , 0.50991553, 1.33403966],\n",
              "       [6.21652572, 1.47791217, 3.20105585],\n",
              "       [6.4578628 , 1.52971038, 3.20759942],\n",
              "       [4.0684631 , 1.53708992, 0.82617494],\n",
              "       [5.07992047, 0.26952816, 1.91251832],\n",
              "       [3.95277017, 1.5334904 , 0.81891975],\n",
              "       [6.17566126, 1.31149299, 2.9794431 ],\n",
              "       [4.05181342, 1.10668455, 0.74269596],\n",
              "       [4.92666134, 0.27627819, 1.75847731],\n",
              "       [5.27802918, 0.52766931, 2.14580999],\n",
              "       [3.91887637, 1.20765678, 0.62526165],\n",
              "       [3.94953061, 1.16212743, 0.70228926],\n",
              "       [4.78292714, 0.54629196, 1.4663925 ],\n",
              "       [5.0624097 , 0.59428255, 1.93773659],\n",
              "       [5.50890116, 0.7312665 , 2.31885342],\n",
              "       [5.99739877, 1.43802246, 3.07340053],\n",
              "       [4.82261257, 0.5605572 , 1.51444141],\n",
              "       [4.10541009, 1.05631592, 0.81536685],\n",
              "       [4.50652771, 1.12133058, 1.23209127],\n",
              "       [5.75777665, 0.95311851, 2.6381171 ],\n",
              "       [4.84041238, 0.73306362, 1.72401927],\n",
              "       [4.55574275, 0.57903109, 1.31541133],\n",
              "       [3.83572575, 1.29960041, 0.61011676],\n",
              "       [4.75659458, 0.34794609, 1.60532899],\n",
              "       [4.97248348, 0.3893492 , 1.77481954],\n",
              "       [4.59738969, 0.68403844, 1.53937059],\n",
              "       [4.13627755, 1.29757391, 0.85382472],\n",
              "       [5.21259935, 0.30952112, 2.00764279],\n",
              "       [5.09085376, 0.50939919, 1.94554509],\n",
              "       [4.60751473, 0.61173881, 1.44957743],\n",
              "       [4.21459274, 1.10072376, 0.89747884],\n",
              "       [4.40998776, 0.65334214, 1.17993324],\n",
              "       [4.59839015, 0.83572418, 1.50889317],\n",
              "       [4.07622276, 1.1805499 , 0.83452741]])"
            ]
          },
          "metadata": {},
          "execution_count": 19
        }
      ]
    },
    {
      "cell_type": "code",
      "metadata": {
        "colab": {
          "base_uri": "https://localhost:8080/"
        },
        "id": "mUwGTfEzzYYX",
        "outputId": "60239d5d-5d51-42f9-d94b-e2e188abddde"
      },
      "source": [
        "labels = kmeans.labels_\n",
        "labels"
      ],
      "execution_count": 20,
      "outputs": [
        {
          "output_type": "execute_result",
          "data": {
            "text/plain": [
              "array([0, 0, 0, 0, 0, 0, 0, 0, 0, 0, 0, 0, 0, 0, 0, 0, 0, 0, 0, 0, 0, 0,\n",
              "       0, 0, 0, 0, 0, 0, 0, 0, 0, 0, 0, 0, 0, 0, 0, 0, 0, 0, 0, 0, 0, 0,\n",
              "       0, 0, 0, 0, 0, 0, 2, 2, 1, 2, 2, 2, 2, 2, 2, 2, 2, 2, 2, 2, 2, 2,\n",
              "       2, 2, 2, 2, 2, 2, 2, 2, 2, 2, 2, 1, 2, 2, 2, 2, 2, 2, 2, 2, 2, 2,\n",
              "       2, 2, 2, 2, 2, 2, 2, 2, 2, 2, 2, 2, 1, 2, 1, 1, 1, 1, 2, 1, 1, 1,\n",
              "       1, 1, 1, 2, 2, 1, 1, 1, 1, 2, 1, 2, 1, 2, 1, 1, 2, 2, 1, 1, 1, 1,\n",
              "       1, 2, 1, 1, 1, 1, 2, 1, 1, 1, 2, 1, 1, 1, 2, 1, 1, 2], dtype=int32)"
            ]
          },
          "metadata": {},
          "execution_count": 20
        }
      ]
    },
    {
      "cell_type": "code",
      "metadata": {
        "id": "uwHeY7Rkzbvn"
      },
      "source": [
        "# Método Elbow -> O método Elbow se trata de uma técnica interessante para encontrar o valor ideal do parâmetro k.\n",
        "# Basicamente o que o método faz é testar a variância dos dados em relação ao número de clusters."
      ],
      "execution_count": 21,
      "outputs": []
    },
    {
      "cell_type": "code",
      "metadata": {
        "colab": {
          "base_uri": "https://localhost:8080/",
          "height": 469
        },
        "id": "XeuZG7TjzfIO",
        "outputId": "82e1ecbc-c22d-46c3-c493-76c1b25cc648"
      },
      "source": [
        "from sklearn.cluster import KMeans\n",
        "wcss = []\n",
        "i = 0 \n",
        "for i in range(1, 11):\n",
        "    kmeans = KMeans(n_clusters = i, init = 'random')\n",
        "    kmeans.fit(X)\n",
        "    print (i,kmeans.inertia_)\n",
        "    wcss.append(kmeans.inertia_)  \n",
        "plt.plot(range(1, 11), wcss)\n",
        "plt.title('O Metodo Elbow')\n",
        "plt.xlabel('Numero de Clusters')\n",
        "plt.ylabel('WSS') #within cluster sum of squares\n",
        "plt.show()"
      ],
      "execution_count": 22,
      "outputs": [
        {
          "output_type": "stream",
          "name": "stdout",
          "text": [
            "1 680.8244000000001\n",
            "2 152.36870647733906\n",
            "3 78.940841426146\n",
            "4 57.317873214285704\n",
            "5 46.80170193050191\n",
            "6 39.51795077185665\n",
            "7 34.299985543844244\n",
            "8 29.889178904428903\n",
            "9 28.38060338680927\n",
            "10 26.098938178780287\n"
          ]
        },
        {
          "output_type": "display_data",
          "data": {
            "image/png": "[encoded data removed]",
            "text/plain": [
              "<Figure size 432x288 with 1 Axes>"
            ]
          },
          "metadata": {
            "needs_background": "light"
          }
        }
      ]
    },
    {
      "cell_type": "code",
      "metadata": {
        "colab": {
          "base_uri": "https://localhost:8080/",
          "height": 269
        },
        "id": "5nHfvGXAuYzk",
        "outputId": "72ce2d37-ca52-46d1-8b85-02d79b4f3f9d"
      },
      "source": [
        "for i, l in enumerate(kmeans_model.labels_):\n",
        "    plt.plot(x1[i], x2[i], color=colors[l], marker=markers[l],ls='None')\n",
        "    plt.xlim([0, 10])\n",
        "    plt.ylim([0, 10])\n",
        "\n",
        "plt.show()"
      ],
      "execution_count": 30,
      "outputs": [
        {
          "output_type": "display_data",
          "data": {
            "image/png": "[encoded data removed]",
            "text/plain": [
              "<Figure size 432x288 with 1 Axes>"
            ]
          },
          "metadata": {
            "needs_background": "light"
          }
        }
      ]
    },
    {
      "cell_type": "code",
      "metadata": {
        "id": "BsNPw_SBziA3"
      },
      "source": [
        "# Agrupando Novos Dados com KMeans\n",
        "# Com o nosso modelo já criado podemos usar o algoritmo K-means para agrupar novos dados baseado nos centroides que já estão definidos.\n",
        "# Passando novos valores e observando os cluster que serão atribuídos."
      ],
      "execution_count": 23,
      "outputs": []
    },
    {
      "cell_type": "code",
      "metadata": {
        "colab": {
          "base_uri": "https://localhost:8080/"
        },
        "id": "9sAtovVWzn32",
        "outputId": "70b02783-e910-485f-e239-6629288a7136"
      },
      "source": [
        "#Agrupando novos dados KMeansPython\n",
        "data = [\n",
        "        [ 4.12, 3.4, 1.6, 0.7],\n",
        "        [ 5.2, 5.8, 5.2, 6.7],\n",
        "        [ 3.1, 3.5, 3.3, 3.0]\n",
        "    ]\n",
        "kmeans.predict(data)"
      ],
      "execution_count": 24,
      "outputs": [
        {
          "output_type": "execute_result",
          "data": {
            "text/plain": [
              "array([3, 4, 2], dtype=int32)"
            ]
          },
          "metadata": {},
          "execution_count": 24
        }
      ]
    },
    {
      "cell_type": "code",
      "metadata": {
        "id": "HcLYXF5RzqKf"
      },
      "source": [
        "# Visualizando os resultados\n",
        "# Para ficar ainda mais claro é interessante visualizar através de uma representação gráfica os nossos dados e os centroides criados pelo K-means Veja com o código abaixo como é simples."
      ],
      "execution_count": 25,
      "outputs": []
    },
    {
      "cell_type": "code",
      "metadata": {
        "colab": {
          "base_uri": "https://localhost:8080/",
          "height": 295
        },
        "id": "f-BXG1iwzsjv",
        "outputId": "5c504d4d-ac9c-48e9-e1c7-31d349881ef3"
      },
      "source": [
        "import matplotlib.pyplot as plt\n",
        " \n",
        "plt.scatter(X[:, 0], X[:,1], s = 100, c = kmeans.labels_)\n",
        "plt.scatter(kmeans.cluster_centers_[:, 0], kmeans.cluster_centers_[:, 1], s = 300, c = 'red',label = 'Centroids')\n",
        "plt.title('Iris Clusters and Centroids')\n",
        "plt.xlabel('SepalLength')\n",
        "plt.ylabel('SepalWidth')\n",
        "plt.legend()\n",
        " \n",
        "plt.show()"
      ],
      "execution_count": 26,
      "outputs": [
        {
          "output_type": "display_data",
          "data": {
            "image/png": "[encoded data removed]",
            "text/plain": [
              "<Figure size 432x288 with 1 Axes>"
            ]
          },
          "metadata": {
            "needs_background": "light"
          }
        }
      ]
    },
    {
      "cell_type": "code",
      "metadata": {
        "id": "kAXu_uElzwCX"
      },
      "source": [
        ""
      ],
      "execution_count": 26,
      "outputs": []
    }
  ]
}